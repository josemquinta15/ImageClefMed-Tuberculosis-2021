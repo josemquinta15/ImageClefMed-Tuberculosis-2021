{
  "nbformat": 4,
  "nbformat_minor": 2,
  "metadata": {
    "colab": {
      "name": "Ipre_2D_Tuberculosis (1).ipynb",
      "provenance": [],
      "collapsed_sections": [
        "Y_S9wfzA9xkE",
        "DLH_CBSV9aT4",
        "v_6iRMl59oDo",
        "f1beg4nzpytU"
      ]
    },
    "kernelspec": {
      "name": "python3",
      "display_name": "Python 3"
    },
    "language_info": {
      "name": "python"
    },
    "widgets": {
      "application/vnd.jupyter.widget-state+json": {
        "44ce9ce3e59045f49b44efbfb9ef68c4": {
          "model_module": "@jupyter-widgets/controls",
          "model_name": "HBoxModel",
          "model_module_version": "1.5.0",
          "state": {
            "_view_name": "HBoxView",
            "_dom_classes": [],
            "_model_name": "HBoxModel",
            "_view_module": "@jupyter-widgets/controls",
            "_model_module_version": "1.5.0",
            "_view_count": null,
            "_view_module_version": "1.5.0",
            "box_style": "",
            "layout": "IPY_MODEL_5dd2a94b623a4b7ab20386d8dd530316",
            "_model_module": "@jupyter-widgets/controls",
            "children": [
              "IPY_MODEL_c98d9892847b41a2970a2974a8805bf8",
              "IPY_MODEL_4d0689c33a1044c2950176daad34ef46"
            ]
          }
        },
        "5dd2a94b623a4b7ab20386d8dd530316": {
          "model_module": "@jupyter-widgets/base",
          "model_name": "LayoutModel",
          "model_module_version": "1.2.0",
          "state": {
            "_view_name": "LayoutView",
            "grid_template_rows": null,
            "right": null,
            "justify_content": null,
            "_view_module": "@jupyter-widgets/base",
            "overflow": null,
            "_model_module_version": "1.2.0",
            "_view_count": null,
            "flex_flow": null,
            "width": null,
            "min_width": null,
            "border": null,
            "align_items": null,
            "bottom": null,
            "_model_module": "@jupyter-widgets/base",
            "top": null,
            "grid_column": null,
            "overflow_y": null,
            "overflow_x": null,
            "grid_auto_flow": null,
            "grid_area": null,
            "grid_template_columns": null,
            "flex": null,
            "_model_name": "LayoutModel",
            "justify_items": null,
            "grid_row": null,
            "max_height": null,
            "align_content": null,
            "visibility": null,
            "align_self": null,
            "height": null,
            "min_height": null,
            "padding": null,
            "grid_auto_rows": null,
            "grid_gap": null,
            "max_width": null,
            "order": null,
            "_view_module_version": "1.2.0",
            "grid_template_areas": null,
            "object_position": null,
            "object_fit": null,
            "grid_auto_columns": null,
            "margin": null,
            "display": null,
            "left": null
          }
        },
        "c98d9892847b41a2970a2974a8805bf8": {
          "model_module": "@jupyter-widgets/controls",
          "model_name": "FloatProgressModel",
          "model_module_version": "1.5.0",
          "state": {
            "_view_name": "ProgressView",
            "style": "IPY_MODEL_88606e4eff444599972b664b32b39997",
            "_dom_classes": [],
            "description": "100%",
            "_model_name": "FloatProgressModel",
            "bar_style": "success",
            "max": 244418560,
            "_view_module": "@jupyter-widgets/controls",
            "_model_module_version": "1.5.0",
            "value": 244418560,
            "_view_count": null,
            "_view_module_version": "1.5.0",
            "orientation": "horizontal",
            "min": 0,
            "description_tooltip": null,
            "_model_module": "@jupyter-widgets/controls",
            "layout": "IPY_MODEL_f04e9e4964254d47894964b4da977f40"
          }
        },
        "4d0689c33a1044c2950176daad34ef46": {
          "model_module": "@jupyter-widgets/controls",
          "model_name": "HTMLModel",
          "model_module_version": "1.5.0",
          "state": {
            "_view_name": "HTMLView",
            "style": "IPY_MODEL_1d7b31f72f244242b2cd79bbc4e0c265",
            "_dom_classes": [],
            "description": "",
            "_model_name": "HTMLModel",
            "placeholder": "​",
            "_view_module": "@jupyter-widgets/controls",
            "_model_module_version": "1.5.0",
            "value": " 233M/233M [00:04&lt;00:00, 51.9MB/s]",
            "_view_count": null,
            "_view_module_version": "1.5.0",
            "description_tooltip": null,
            "_model_module": "@jupyter-widgets/controls",
            "layout": "IPY_MODEL_e99ed7f0e7be4439afad069bee4be19b"
          }
        },
        "88606e4eff444599972b664b32b39997": {
          "model_module": "@jupyter-widgets/controls",
          "model_name": "ProgressStyleModel",
          "model_module_version": "1.5.0",
          "state": {
            "_view_name": "StyleView",
            "_model_name": "ProgressStyleModel",
            "description_width": "initial",
            "_view_module": "@jupyter-widgets/base",
            "_model_module_version": "1.5.0",
            "_view_count": null,
            "_view_module_version": "1.2.0",
            "bar_color": null,
            "_model_module": "@jupyter-widgets/controls"
          }
        },
        "f04e9e4964254d47894964b4da977f40": {
          "model_module": "@jupyter-widgets/base",
          "model_name": "LayoutModel",
          "model_module_version": "1.2.0",
          "state": {
            "_view_name": "LayoutView",
            "grid_template_rows": null,
            "right": null,
            "justify_content": null,
            "_view_module": "@jupyter-widgets/base",
            "overflow": null,
            "_model_module_version": "1.2.0",
            "_view_count": null,
            "flex_flow": null,
            "width": null,
            "min_width": null,
            "border": null,
            "align_items": null,
            "bottom": null,
            "_model_module": "@jupyter-widgets/base",
            "top": null,
            "grid_column": null,
            "overflow_y": null,
            "overflow_x": null,
            "grid_auto_flow": null,
            "grid_area": null,
            "grid_template_columns": null,
            "flex": null,
            "_model_name": "LayoutModel",
            "justify_items": null,
            "grid_row": null,
            "max_height": null,
            "align_content": null,
            "visibility": null,
            "align_self": null,
            "height": null,
            "min_height": null,
            "padding": null,
            "grid_auto_rows": null,
            "grid_gap": null,
            "max_width": null,
            "order": null,
            "_view_module_version": "1.2.0",
            "grid_template_areas": null,
            "object_position": null,
            "object_fit": null,
            "grid_auto_columns": null,
            "margin": null,
            "display": null,
            "left": null
          }
        },
        "1d7b31f72f244242b2cd79bbc4e0c265": {
          "model_module": "@jupyter-widgets/controls",
          "model_name": "DescriptionStyleModel",
          "model_module_version": "1.5.0",
          "state": {
            "_view_name": "StyleView",
            "_model_name": "DescriptionStyleModel",
            "description_width": "",
            "_view_module": "@jupyter-widgets/base",
            "_model_module_version": "1.5.0",
            "_view_count": null,
            "_view_module_version": "1.2.0",
            "_model_module": "@jupyter-widgets/controls"
          }
        },
        "e99ed7f0e7be4439afad069bee4be19b": {
          "model_module": "@jupyter-widgets/base",
          "model_name": "LayoutModel",
          "model_module_version": "1.2.0",
          "state": {
            "_view_name": "LayoutView",
            "grid_template_rows": null,
            "right": null,
            "justify_content": null,
            "_view_module": "@jupyter-widgets/base",
            "overflow": null,
            "_model_module_version": "1.2.0",
            "_view_count": null,
            "flex_flow": null,
            "width": null,
            "min_width": null,
            "border": null,
            "align_items": null,
            "bottom": null,
            "_model_module": "@jupyter-widgets/base",
            "top": null,
            "grid_column": null,
            "overflow_y": null,
            "overflow_x": null,
            "grid_auto_flow": null,
            "grid_area": null,
            "grid_template_columns": null,
            "flex": null,
            "_model_name": "LayoutModel",
            "justify_items": null,
            "grid_row": null,
            "max_height": null,
            "align_content": null,
            "visibility": null,
            "align_self": null,
            "height": null,
            "min_height": null,
            "padding": null,
            "grid_auto_rows": null,
            "grid_gap": null,
            "max_width": null,
            "order": null,
            "_view_module_version": "1.2.0",
            "grid_template_areas": null,
            "object_position": null,
            "object_fit": null,
            "grid_auto_columns": null,
            "margin": null,
            "display": null,
            "left": null
          }
        },
        "4d2e55e7e27641188cc69ac9498892d2": {
          "model_module": "@jupyter-widgets/controls",
          "model_name": "HBoxModel",
          "model_module_version": "1.5.0",
          "state": {
            "_view_name": "HBoxView",
            "_dom_classes": [],
            "_model_name": "HBoxModel",
            "_view_module": "@jupyter-widgets/controls",
            "_model_module_version": "1.5.0",
            "_view_count": null,
            "_view_module_version": "1.5.0",
            "box_style": "",
            "layout": "IPY_MODEL_13adef084ec045d69d3989e4a2ce85ad",
            "_model_module": "@jupyter-widgets/controls",
            "children": [
              "IPY_MODEL_4b45bfb88ff04c809c408e6e546b9097",
              "IPY_MODEL_490c334c425f4d6aa47f842ee017c5ce"
            ]
          }
        },
        "13adef084ec045d69d3989e4a2ce85ad": {
          "model_module": "@jupyter-widgets/base",
          "model_name": "LayoutModel",
          "model_module_version": "1.2.0",
          "state": {
            "_view_name": "LayoutView",
            "grid_template_rows": null,
            "right": null,
            "justify_content": null,
            "_view_module": "@jupyter-widgets/base",
            "overflow": null,
            "_model_module_version": "1.2.0",
            "_view_count": null,
            "flex_flow": null,
            "width": null,
            "min_width": null,
            "border": null,
            "align_items": null,
            "bottom": null,
            "_model_module": "@jupyter-widgets/base",
            "top": null,
            "grid_column": null,
            "overflow_y": null,
            "overflow_x": null,
            "grid_auto_flow": null,
            "grid_area": null,
            "grid_template_columns": null,
            "flex": null,
            "_model_name": "LayoutModel",
            "justify_items": null,
            "grid_row": null,
            "max_height": null,
            "align_content": null,
            "visibility": null,
            "align_self": null,
            "height": null,
            "min_height": null,
            "padding": null,
            "grid_auto_rows": null,
            "grid_gap": null,
            "max_width": null,
            "order": null,
            "_view_module_version": "1.2.0",
            "grid_template_areas": null,
            "object_position": null,
            "object_fit": null,
            "grid_auto_columns": null,
            "margin": null,
            "display": null,
            "left": null
          }
        },
        "4b45bfb88ff04c809c408e6e546b9097": {
          "model_module": "@jupyter-widgets/controls",
          "model_name": "FloatProgressModel",
          "model_module_version": "1.5.0",
          "state": {
            "_view_name": "ProgressView",
            "style": "IPY_MODEL_42068c2538244dcfb7ef5e1468b8cba9",
            "_dom_classes": [],
            "description": "100%",
            "_model_name": "FloatProgressModel",
            "bar_style": "success",
            "max": 553433881,
            "_view_module": "@jupyter-widgets/controls",
            "_model_module_version": "1.5.0",
            "value": 553433881,
            "_view_count": null,
            "_view_module_version": "1.5.0",
            "orientation": "horizontal",
            "min": 0,
            "description_tooltip": null,
            "_model_module": "@jupyter-widgets/controls",
            "layout": "IPY_MODEL_fa074674e865499e901338ffc693500d"
          }
        },
        "490c334c425f4d6aa47f842ee017c5ce": {
          "model_module": "@jupyter-widgets/controls",
          "model_name": "HTMLModel",
          "model_module_version": "1.5.0",
          "state": {
            "_view_name": "HTMLView",
            "style": "IPY_MODEL_ba81ff9fbbe74c1cb52c07cca38c65ad",
            "_dom_classes": [],
            "description": "",
            "_model_name": "HTMLModel",
            "placeholder": "​",
            "_view_module": "@jupyter-widgets/controls",
            "_model_module_version": "1.5.0",
            "value": " 528M/528M [00:06&lt;00:00, 80.3MB/s]",
            "_view_count": null,
            "_view_module_version": "1.5.0",
            "description_tooltip": null,
            "_model_module": "@jupyter-widgets/controls",
            "layout": "IPY_MODEL_abc703feb22945d19de155d6aba8da9b"
          }
        },
        "42068c2538244dcfb7ef5e1468b8cba9": {
          "model_module": "@jupyter-widgets/controls",
          "model_name": "ProgressStyleModel",
          "model_module_version": "1.5.0",
          "state": {
            "_view_name": "StyleView",
            "_model_name": "ProgressStyleModel",
            "description_width": "initial",
            "_view_module": "@jupyter-widgets/base",
            "_model_module_version": "1.5.0",
            "_view_count": null,
            "_view_module_version": "1.2.0",
            "bar_color": null,
            "_model_module": "@jupyter-widgets/controls"
          }
        },
        "fa074674e865499e901338ffc693500d": {
          "model_module": "@jupyter-widgets/base",
          "model_name": "LayoutModel",
          "model_module_version": "1.2.0",
          "state": {
            "_view_name": "LayoutView",
            "grid_template_rows": null,
            "right": null,
            "justify_content": null,
            "_view_module": "@jupyter-widgets/base",
            "overflow": null,
            "_model_module_version": "1.2.0",
            "_view_count": null,
            "flex_flow": null,
            "width": null,
            "min_width": null,
            "border": null,
            "align_items": null,
            "bottom": null,
            "_model_module": "@jupyter-widgets/base",
            "top": null,
            "grid_column": null,
            "overflow_y": null,
            "overflow_x": null,
            "grid_auto_flow": null,
            "grid_area": null,
            "grid_template_columns": null,
            "flex": null,
            "_model_name": "LayoutModel",
            "justify_items": null,
            "grid_row": null,
            "max_height": null,
            "align_content": null,
            "visibility": null,
            "align_self": null,
            "height": null,
            "min_height": null,
            "padding": null,
            "grid_auto_rows": null,
            "grid_gap": null,
            "max_width": null,
            "order": null,
            "_view_module_version": "1.2.0",
            "grid_template_areas": null,
            "object_position": null,
            "object_fit": null,
            "grid_auto_columns": null,
            "margin": null,
            "display": null,
            "left": null
          }
        },
        "ba81ff9fbbe74c1cb52c07cca38c65ad": {
          "model_module": "@jupyter-widgets/controls",
          "model_name": "DescriptionStyleModel",
          "model_module_version": "1.5.0",
          "state": {
            "_view_name": "StyleView",
            "_model_name": "DescriptionStyleModel",
            "description_width": "",
            "_view_module": "@jupyter-widgets/base",
            "_model_module_version": "1.5.0",
            "_view_count": null,
            "_view_module_version": "1.2.0",
            "_model_module": "@jupyter-widgets/controls"
          }
        },
        "abc703feb22945d19de155d6aba8da9b": {
          "model_module": "@jupyter-widgets/base",
          "model_name": "LayoutModel",
          "model_module_version": "1.2.0",
          "state": {
            "_view_name": "LayoutView",
            "grid_template_rows": null,
            "right": null,
            "justify_content": null,
            "_view_module": "@jupyter-widgets/base",
            "overflow": null,
            "_model_module_version": "1.2.0",
            "_view_count": null,
            "flex_flow": null,
            "width": null,
            "min_width": null,
            "border": null,
            "align_items": null,
            "bottom": null,
            "_model_module": "@jupyter-widgets/base",
            "top": null,
            "grid_column": null,
            "overflow_y": null,
            "overflow_x": null,
            "grid_auto_flow": null,
            "grid_area": null,
            "grid_template_columns": null,
            "flex": null,
            "_model_name": "LayoutModel",
            "justify_items": null,
            "grid_row": null,
            "max_height": null,
            "align_content": null,
            "visibility": null,
            "align_self": null,
            "height": null,
            "min_height": null,
            "padding": null,
            "grid_auto_rows": null,
            "grid_gap": null,
            "max_width": null,
            "order": null,
            "_view_module_version": "1.2.0",
            "grid_template_areas": null,
            "object_position": null,
            "object_fit": null,
            "grid_auto_columns": null,
            "margin": null,
            "display": null,
            "left": null
          }
        }
      }
    }
  },
  "cells": [
    {
      "cell_type": "code",
      "execution_count": null,
      "source": [
        "!pip install -U tensorflow-addons"
      ],
      "outputs": [],
      "metadata": {
        "colab": {
          "base_uri": "https://localhost:8080/"
        },
        "id": "reG2TrT-fr1B",
        "outputId": "3f7c867b-5a03-4cff-feeb-bcf9e10ebd58"
      }
    },
    {
      "cell_type": "code",
      "execution_count": null,
      "source": [
        "import os\r\n",
        "import tensorflow as tf\r\n",
        "from tensorflow.keras import layers\r\n",
        "from tensorflow.keras import Model\r\n",
        "from tensorflow.keras.optimizers import Adam\r\n",
        "import tensorflow_addons as tfa\r\n",
        "import numpy as np\r\n",
        "import matplotlib.pyplot as plt\r\n",
        "from PIL import Image\r\n",
        "from tensorflow.keras.utils import plot_model\r\n",
        "import pandas as pd\r\n",
        "from sklearn.model_selection import train_test_split\r\n",
        "import shutil\r\n",
        "from tensorflow.keras.regularizers import L2\r\n",
        "from tensorflow.keras.preprocessing.image import ImageDataGenerator"
      ],
      "outputs": [],
      "metadata": {
        "id": "eRxI147abzGV"
      }
    },
    {
      "cell_type": "markdown",
      "source": [
        "# Create the Model\n"
      ],
      "metadata": {
        "id": "CRBQaeAxl1a9"
      }
    },
    {
      "cell_type": "code",
      "execution_count": null,
      "source": [
        "from tensorflow.keras.applications import EfficientNetB4, DenseNet121\r\n",
        "\r\n",
        "# USE EFFICIENT-NET\r\n",
        "# pre_trained_model_256 = EfficientNetB4(include_top = False, input_shape = (256, 256, 3))\r\n",
        "# pre_trained_model_128 = EfficientNetB4(include_top = False, input_shape = (128, 256, 3))\r\n",
        "\r\n",
        "# USE DENSENET121\r\n",
        "pre_trained_model_256 = DenseNet121(include_top = False, input_shape = (256,256,3), weights = 'imagenet', pooling = 'avg') #, pooling = 'avg'\r\n",
        "pre_trained_model_256_0 = DenseNet121(include_top = False, input_shape = (256,256,3), weights = 'imagenet', pooling = 'avg') #, pooling = 'avg'\r\n",
        "pre_trained_model_128 = DenseNet121(include_top = False, input_shape = (128,256,3), weights = 'imagenet', pooling = 'avg') #, pooling = 'avg'"
      ],
      "outputs": [
        {
          "output_type": "stream",
          "name": "stdout",
          "text": [
            "Downloading data from https://storage.googleapis.com/tensorflow/keras-applications/densenet/densenet121_weights_tf_dim_ordering_tf_kernels_notop.h5\n",
            "29089792/29084464 [==============================] - 0s 0us/step\n"
          ]
        }
      ],
      "metadata": {
        "id": "ZIEgWjwIzFLy",
        "colab": {
          "base_uri": "https://localhost:8080/"
        },
        "outputId": "5ba95294-70ae-4bb9-b86e-fc919b55cbc5"
      }
    },
    {
      "cell_type": "code",
      "execution_count": null,
      "source": [
        "pre_trained_model_128.trainable = False\r\n",
        "pre_trained_model_256.trainable = False\r\n",
        "pre_trained_model_256_0.trainable = False\r\n",
        "\r\n",
        "for layer in pre_trained_model_128.layers[-20:]:\r\n",
        "    if not isinstance(layer, layers.BatchNormalization):\r\n",
        "        layer.trainable = True\r\n",
        "for layer in pre_trained_model_256.layers[-20:]:\r\n",
        "    if not isinstance(layer, layers.BatchNormalization):\r\n",
        "        layer.trainable = True\r\n",
        "for layer in pre_trained_model_256_0.layers[-20:]:\r\n",
        "    if not isinstance(layer, layers.BatchNormalization):\r\n",
        "        layer.trainable = True"
      ],
      "outputs": [],
      "metadata": {
        "id": "am91C7QgcLxq"
      }
    },
    {
      "cell_type": "code",
      "execution_count": null,
      "source": [
        "last_layer_256 = pre_trained_model_256.get_layer('avg_pool')  # avg_pool\r\n",
        "last_output_256 = last_layer_256.output\r\n",
        "\r\n",
        "last_layer_256_0 = pre_trained_model_256_0.get_layer('avg_pool')  # avg_pool\r\n",
        "last_output_256_0 = last_layer_256_0.output\r\n",
        "\r\n",
        "last_layer_128 = pre_trained_model_128.get_layer('avg_pool')\r\n",
        "last_output_128 = last_layer_128.output"
      ],
      "outputs": [],
      "metadata": {
        "id": "qIB-FxKmcOC3"
      }
    },
    {
      "cell_type": "code",
      "execution_count": null,
      "source": [
        "def initialize_base_model(last_output, pre_trained_model, name):\r\n",
        "    x = layers.Dropout(0.3)(last_output)\r\n",
        "    x = layers.Dense(1024, activation = 'relu', kernel_regularizer = L2())(x) \r\n",
        "    x = layers.Dropout(0.3)(x)\r\n",
        "    x = layers.Dense(128, activation = 'relu', kernel_regularizer = L2())(x)\r\n",
        "\r\n",
        "    return Model(pre_trained_model.input, x, name = name)"
      ],
      "outputs": [],
      "metadata": {
        "id": "Rhnbin5Ig3Gg"
      }
    },
    {
      "cell_type": "code",
      "execution_count": null,
      "source": [
        "num_of_classes = 5\r\n",
        "\r\n",
        "model_1 = initialize_base_model(last_output_256, pre_trained_model_256, name = 'DenseNet_Ax1')\r\n",
        "model_2 = initialize_base_model(last_output_256_0, pre_trained_model_256_0, name = 'DenseNet_Ax2')\r\n",
        "\r\n",
        "input_1 = tf.keras.Input(shape = (256, 256, 3), name= 'input_axis_1')\r\n",
        "output_1 = model_1(input_1)\r\n",
        "\r\n",
        "input_2 = tf.keras.Input(shape = (256, 256, 3), name= 'input_axis_2')\r\n",
        "output_2 = model_2(input_2)\r\n",
        "\r\n",
        "x = layers.Concatenate()([output_1, output_2])\r\n",
        "x = layers.Dropout(0.2)(x)\r\n",
        "output = layers.Dense(num_of_classes, activation = 'softmax')(x)\r\n",
        "\r\n",
        "model = Model(inputs = [input_1, input_2], outputs = output)\r\n",
        "\r\n",
        "model.compile(optimizer = Adam(learning_rate=0.0001), loss = 'categorical_crossentropy', metrics = [tfa.metrics.CohenKappa(num_classes = num_of_classes), 'accuracy'])\r\n",
        "\r\n"
      ],
      "outputs": [],
      "metadata": {
        "id": "4yYo2aDweHTF"
      }
    },
    {
      "cell_type": "code",
      "execution_count": null,
      "source": [
        "plot_model(model, show_shapes=True, show_layer_names=True)"
      ],
      "outputs": [],
      "metadata": {
        "colab": {
          "base_uri": "https://localhost:8080/",
          "height": 533
        },
        "id": "RwHieItOeHYh",
        "outputId": "5ea487db-a9d7-4f62-b4ac-7756796b74af"
      }
    },
    {
      "cell_type": "markdown",
      "source": [
        "# Image Preprocessing"
      ],
      "metadata": {
        "id": "krDoRKHEmALe"
      }
    },
    {
      "cell_type": "code",
      "execution_count": null,
      "source": [
        "from google.colab import drive\r\n",
        "drive.mount('/content/gdrive')"
      ],
      "outputs": [],
      "metadata": {
        "colab": {
          "base_uri": "https://localhost:8080/"
        },
        "id": "dF9HvRQl1RIB",
        "outputId": "cc55e5a9-6a38-4755-a508-18725577ce34"
      }
    },
    {
      "cell_type": "code",
      "execution_count": null,
      "source": [
        "base_path = 'gdrive/MyDrive/ipre_dataset'\r\n",
        "\r\n",
        "df = pd.read_csv(f'{base_path}/labels.csv')\r\n",
        "labels = df['TypeOfTB'] - 1"
      ],
      "outputs": [],
      "metadata": {
        "id": "1gab5TMVdUnN"
      }
    },
    {
      "cell_type": "code",
      "execution_count": null,
      "source": [
        "def double_generator(generator1, generator2):\r\n",
        "\r\n",
        "    while True:\r\n",
        "        for (x1,y1),(x2,y2) in zip(generator1, generator2):\r\n",
        "            yield ([x1,x2],y1)"
      ],
      "outputs": [],
      "metadata": {
        "id": "YPBAB_iZH1dB"
      }
    },
    {
      "cell_type": "code",
      "execution_count": null,
      "source": [
        "threshold = 0.18\r\n",
        "experiment_name = 'Best_2D_Approach'\r\n",
        "\r\n",
        "class CK_callback(tf.keras.callbacks.Callback):\r\n",
        "    def on_epoch_end(self, epoch, logs = {}):\r\n",
        "        if logs.get('val_cohen_kappa') > threshold and logs.get('cohen_kappa') > threshold:\r\n",
        "            print('Training And Validation Cohens Kappa achieved')\r\n",
        "            self.model.stop_training = True\r\n",
        "\r\n",
        "cohens_kappa_callback = CK_callback()\r\n",
        "\r\n",
        "logdir = os.path.join(\"logs\", experiment_name)\r\n",
        "tensorboard_callback = tf.keras.callbacks.TensorBoard(logdir, histogram_freq=1)\r\n",
        "\r\n",
        "# reduce_lr = tf.keras.callbacks.ReduceLROnPlateau(monitor='loss', factor=0.2,\r\n",
        "#                               patience=5, min_lr=1e-7)"
      ],
      "outputs": [],
      "metadata": {
        "id": "WLGd0MdDybHP"
      }
    },
    {
      "cell_type": "code",
      "execution_count": null,
      "source": [
        "\r\n",
        "base_path = 'gdrive/MyDrive/ipre_dataset/ordered'\r\n",
        "\r\n",
        "train_dir_ax0 = f'{base_path}/axis_0_ord/train'\r\n",
        "validation_dir_ax0 = f'{base_path}/axis_0_ord/validation'\r\n",
        "\r\n",
        "train_dir_ax1 = f'{base_path}/axis_1_ord/train'\r\n",
        "validation_dir_ax1 = f'{base_path}/axis_1_ord/validation'\r\n",
        "\r\n",
        "train_dir_ax2 = f'{base_path}/axis_2_ord/train'\r\n",
        "validation_dir_ax2 = f'{base_path}/axis_2_ord/validation'\r\n",
        "\r\n",
        "batch_size = 32\r\n",
        "\r\n",
        "train_datagen_ax0 = ImageDataGenerator(rescale=1/255,\r\n",
        "                                       rotation_range = 25,\r\n",
        "                                       width_shift_range = 0.15,\r\n",
        "                                       height_shift_range = 0.15,\r\n",
        "                                       zoom_range = 0.2,\r\n",
        "                                       horizontal_flip = True,\r\n",
        "                                       vertical_flip = True)\r\n",
        "\r\n",
        "train_datagen_ax1 = ImageDataGenerator(rescale=1/255,\r\n",
        "                                       rotation_range = 25,\r\n",
        "                                       width_shift_range = 0.15,\r\n",
        "                                       height_shift_range = 0.15,\r\n",
        "                                       zoom_range = 0.2,\r\n",
        "                                       horizontal_flip = True,\r\n",
        "                                       vertical_flip = True)\r\n",
        "\r\n",
        "train_datagen_ax2 = ImageDataGenerator(rescale=1/255,\r\n",
        "                                       rotation_range = 25,\r\n",
        "                                       width_shift_range = 0.15,\r\n",
        "                                       height_shift_range = 0.15,\r\n",
        "                                       zoom_range = 0.2,\r\n",
        "                                       horizontal_flip = True,\r\n",
        "                                       vertical_flip = True)\r\n",
        "\r\n",
        "\r\n",
        "train_generator_ax0 = train_datagen_ax0.flow_from_directory(train_dir_ax0, batch_size = batch_size, class_mode = 'categorical', target_size = (128, 256))\r\n",
        "train_generator_ax1 = train_datagen_ax1.flow_from_directory(train_dir_ax1, batch_size = batch_size, class_mode = 'categorical', target_size = (256, 256))\r\n",
        "train_generator_ax2 = train_datagen_ax2.flow_from_directory(train_dir_ax2, batch_size = batch_size, class_mode = 'categorical', target_size = (256, 256))\r\n",
        "\r\n",
        "validation_datagen_ax0 = ImageDataGenerator(rescale=1/255)\r\n",
        "validation_datagen_ax1 = ImageDataGenerator(rescale=1/255)\r\n",
        "validation_datagen_ax2 = ImageDataGenerator(rescale=1/255)\r\n",
        "\r\n",
        "\r\n",
        "validation_generator_ax0 = validation_datagen_ax0.flow_from_directory(validation_dir_ax0, batch_size = batch_size, class_mode = 'categorical', target_size = (128, 256))\r\n",
        "validation_generator_ax1 = validation_datagen_ax1.flow_from_directory(validation_dir_ax1, batch_size = batch_size, class_mode = 'categorical', target_size = (256, 256))\r\n",
        "validation_generator_ax2 = validation_datagen_ax2.flow_from_directory(validation_dir_ax2, batch_size = batch_size, class_mode = 'categorical', target_size = (256, 256))\r\n",
        "\r\n"
      ],
      "outputs": [],
      "metadata": {
        "id": "s7_JANc6xlA8",
        "colab": {
          "base_uri": "https://localhost:8080/"
        },
        "outputId": "8e46df07-cce6-4caf-d804-9ad42f91c1ea"
      }
    },
    {
      "cell_type": "code",
      "execution_count": null,
      "source": [
        "history = model.fit(\r\n",
        "    double_generator(train_generator_ax1, train_generator_ax2), \r\n",
        "    validation_data = double_generator(validation_generator_ax1, validation_generator_ax2),\r\n",
        "    steps_per_epoch = 40,\r\n",
        "    epochs = 100,\r\n",
        "    validation_steps = 18,\r\n",
        "    callbacks = [tensorboard_callback, cohens_kappa_callback],\r\n",
        "    class_weight = classes_weight\r\n",
        ")\r\n"
      ],
      "outputs": [],
      "metadata": {
        "id": "Ti3Gip_q-APv"
      }
    },
    {
      "cell_type": "markdown",
      "source": [
        "**Save the model**"
      ],
      "metadata": {
        "id": "b3_rzHit-KGV"
      }
    },
    {
      "cell_type": "code",
      "execution_count": null,
      "source": [
        "model_json = model.to_json()\r\n",
        "path = 'gdrive/MyDrive/ipre_dataset/saved_models/Best_2D_Approach/'\r\n",
        "with open(f\"{path}model.json\", \"w\") as json_file:\r\n",
        "    json_file.write(model_json)\r\n",
        "\r\n",
        "model.save_weights(f\"{path}model_num.h5\")"
      ],
      "outputs": [],
      "metadata": {
        "id": "_aY0Ui4M-I9S"
      }
    }
  ]
}