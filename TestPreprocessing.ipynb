{
 "cells": [
  {
   "cell_type": "code",
   "execution_count": null,
   "id": "infectious-going",
   "metadata": {},
   "outputs": [],
   "source": [
    "import numpy as np\n",
    "import matplotlib.pyplot as plt\n",
    "import nibabel as nib\n",
    "import pandas as pd\n",
    "import sklearn\n",
    "import os\n",
    "import albumentations as A\n",
    "from PIL import Image\n",
    "from torchvision.transforms import Resize\n",
    "import torch"
   ]
  },
  {
   "cell_type": "code",
   "execution_count": null,
   "id": "virtual-execution",
   "metadata": {},
   "outputs": [],
   "source": [
    "paths = ['TST_' + str(i + 1).zfill(4) + '.nii.gz' for i in range(421)]\n",
    "imgs_paths = [os.path.join('test_uncompressed', path) for path in paths]\n",
    "masks_paths = [os.path.join('test_masks/masks2', path) for path in paths]"
   ]
  },
  {
   "cell_type": "code",
   "execution_count": null,
   "id": "invalid-ladder",
   "metadata": {},
   "outputs": [],
   "source": [
    "def cut_proj(proj):\n",
    "    xs, ys, zs = np.where(proj!=0)\n",
    "    cut_img = proj[min(xs) : max(xs) + 1, min(ys) : max(ys) + 1, min(zs) : max(zs) + 1] \n",
    "    return cut_img"
   ]
  },
  {
   "cell_type": "code",
   "execution_count": null,
   "id": "geographic-duration",
   "metadata": {},
   "outputs": [],
   "source": [
    "for i in range(0, 421, 20):\n",
    "    start = i\n",
    "    finish = i + 20 if i != 400 else 421 \n",
    "    print(f'batch from {start} to {finish}')\n",
    "    print('-> Uploading Images')\n",
    "    imgs = [nib.load(imgs_paths[i]) for i in range(start, finish)]\n",
    "    print('-> Images Uploaded \\n-> Uploading Masks')\n",
    "    masks = [nib.load(masks_paths[i]) for i in range(start, finish)]\n",
    "    print('-> Masks Uploaded')\n",
    "    print('-> Getting data of Images')\n",
    "    imgs_data = []\n",
    "    for img in imgs:\n",
    "        try:\n",
    "            img = img.get_fdata()\n",
    "            imgs_data.append(img)\n",
    "        except OSError:\n",
    "            print(imgs.index(img))\n",
    "\n",
    "    print('-> Images Data Uploaded')\n",
    "    print('-> Getting data of Masks')\n",
    "    masks_data = [mask.get_fdata() for mask in masks]\n",
    "    print('-> Masks Data Uploaded')\n",
    "\n",
    "    projections_3d = [np.multiply(mask_data, img_data) for mask_data, img_data in zip(masks_data, imgs_data)]\n",
    "\n",
    "    right_lungs = [np.float32(cut_proj(projection[:255,:,:])) for projection in projections_3d] \n",
    "    left_lungs = [np.float32(cut_proj(projection[255:,:,:])) for projection in projections_3d] \n",
    "\n",
    "    save_images(start, right_lungs, left_lungs)\n",
    "    print('End of batch')"
   ]
  },
  {
   "cell_type": "code",
   "execution_count": null,
   "id": "liked-baghdad",
   "metadata": {},
   "outputs": [],
   "source": [
    "# Save Right Lungs\n",
    "def save_images(start, right_lungs, left_lungs):\n",
    "    i = 1 + start\n",
    "    base_path = 'test_images_np/right_lungs/'\n",
    "    for array in right_lungs:\n",
    "        np.save(f'{base_path}TST_' + str(i).zfill(4), array)\n",
    "        i += 1\n",
    "\n",
    "    # Save Left Lungs\n",
    "    i = 1 + start\n",
    "    base_path = 'test_images_np/left_lungs/'\n",
    "    for array in left_lungs:\n",
    "        np.save(f'{base_path}TST_' + str(i).zfill(4), array)\n",
    "        i += 1"
   ]
  },
  {
   "cell_type": "markdown",
   "id": "reflected-perfume",
   "metadata": {},
   "source": [
    "## Process images"
   ]
  },
  {
   "cell_type": "code",
   "execution_count": null,
   "id": "prompt-essex",
   "metadata": {},
   "outputs": [],
   "source": [
    "def resize_img(img, size):\n",
    "    resize = Resize(size)\n",
    "    resized_img = resize(torch.from_numpy(img).T).T\n",
    "    return resized_img\n",
    "def average_img(img, axis):\n",
    "    average = np.average(img, axis = axis) + 1024\n",
    "    norm_img = (average) / np.amax(average)\n",
    "    return norm_img\n",
    "\n",
    "def max_img(img, axis):\n",
    "    norm_img = (np.amax(img, axis = axis) + 1024) / 1500\n",
    "    return norm_img\n",
    "\n",
    "def std_img(img, axis):\n",
    "    std = (np.std(img, axis = axis) + 1024)\n",
    "    norm_img = std / np.amax(std)\n",
    "    return norm_img\n",
    "def get_2d_proj(images, axis, size = (256, 256)):\n",
    "    proj_2d = [resize_img(np.dstack(( average_img(img, axis = axis), max_img(img, axis = axis), \\\n",
    "                    std_img(img, axis = axis) )), size) for img in images]\n",
    "    return proj_2d"
   ]
  },
  {
   "cell_type": "code",
   "execution_count": null,
   "id": "imported-bahamas",
   "metadata": {},
   "outputs": [],
   "source": [
    "\n",
    "for i in range(0, 401, 20):\n",
    "    start = i\n",
    "    finish = i + 20 if i != 400 else 421 \n",
    "    print(f'Batch from {start + 1} to {finish}')\n",
    "    print('loading images')\n",
    "    \n",
    "    right_lungs = [np.load('test_images_np/right_lungs/TST_' + str(i).zfill(4) + '.npy') for i in range(start+1, 1+finish)]\n",
    "    left_lungs = [np.load('test_images_np/left_lungs/TST_' + str(i).zfill(4) + '.npy') for i in range(start+1, 1+finish)]\n",
    "    print('images loaded')\n",
    "    lungs = []\n",
    "    for lungs_3d in (right_lungs, left_lungs):\n",
    "        projections_2d_dim_0 = get_2d_proj(lungs_3d, axis = 0, size = (128, 256))\n",
    "\n",
    "        projections_2d_dim_1 = get_2d_proj(lungs_3d, axis = 1)\n",
    "\n",
    "        projections_2d_dim_2 = get_2d_proj(lungs_3d, axis = 2)\n",
    "\n",
    "        projections_2d = list(zip(projections_2d_dim_0, projections_2d_dim_1, projections_2d_dim_2))\n",
    "        # projections_2d is a list of lists [#person1# [2D RGB image axis = 0, 2D RGB image axis = 1, 2D RGB image axis = 2], \n",
    "                       #person2# [2D RGB image axis = 0, 2D RGB image axis = 1, 2D RGB image axis = 2], ...]\n",
    "        lungs.append(projections_2d)\n",
    "    print('saving images')\n",
    "    save_jpg(lungs, start, finish)\n",
    "    print('images saved')\n",
    "# lungs = {'right': lungs[0], 'left': lungs[1]}\n",
    "# OUTPUT: dict with right and left lungs separated in projections_2d format.  "
   ]
  },
  {
   "cell_type": "code",
   "execution_count": null,
   "id": "intelligent-separate",
   "metadata": {},
   "outputs": [],
   "source": [
    "def save_jpg(lungs, start, finish):\n",
    "    base_path = 'test_jpg'\n",
    "    j=-1\n",
    "    for side_lungs in lungs:\n",
    "        j+=1\n",
    "        side = 'right' if j == 0 else 'left'\n",
    "        for i in range(finish - start):\n",
    "            patient_id = i + start + 1  #starting for 1 the num of patients\n",
    "            patient = side_lungs[i]\n",
    "            for axis in range(3):\n",
    "                img = (np.array(side_lungs[i][axis])*255).astype(np.uint8)\n",
    "                img = Image.fromarray(img, 'RGB')\n",
    "                img.save(os.path.join(base_path, f'axis_{axis}/TST_' + str(patient_id).zfill(4) + f'_{side}.jpg'))\n"
   ]
  },
  {
   "cell_type": "code",
   "execution_count": null,
   "id": "closed-recognition",
   "metadata": {},
   "outputs": [],
   "source": []
  }
 ],
 "metadata": {
  "kernelspec": {
   "display_name": "Python 3",
   "language": "python",
   "name": "python3"
  },
  "language_info": {
   "codemirror_mode": {
    "name": "ipython",
    "version": 3
   },
   "file_extension": ".py",
   "mimetype": "text/x-python",
   "name": "python",
   "nbconvert_exporter": "python",
   "pygments_lexer": "ipython3",
   "version": "3.6.9"
  }
 },
 "nbformat": 4,
 "nbformat_minor": 5
}
